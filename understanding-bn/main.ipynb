{
 "cells": [
  {
   "cell_type": "raw",
   "metadata": {
    "vscode": {
     "languageId": "raw"
    }
   },
   "source": [
    "---\n",
    "title: \"Understanding Batch Normalization\"\n",
    "subtitle: \"Attempted (partial) paper reproduction\"\n",
    "author: E. Cantu\n",
    "\n",
    "execute:\n",
    "    warning: false\n",
    "    cache: true\n",
    "\n",
    "format:\n",
    "    html:\n",
    "        toc: true\n",
    "\n",
    "---"
   ]
  },
  {
   "cell_type": "markdown",
   "metadata": {},
   "source": [
    "[Paper](https://arxiv.org/pdf/1806.02375) | [This notebook](main.ipynb)\n",
    "\n",
    "The paper investigates the cause of batch norm's benefits experimentally. The authors show that its main benefit is allowing for larger learning rates during training. In particular: \n",
    "\n",
    ">\"We show that the activations\n",
    "and gradients in deep neural networks without BN tend to be heavy-tailed. In particular, during an\n",
    "early on-set of divergence, a small subset of activations (typically in deep layer) “explode”. The\n",
    "typical practice to avoid such divergence is to set the learning rate to be sufficiently small such that\n",
    "no steep gradient direction can lead to divergence. However, small learning rates yield little progress\n",
    "along flat directions of the optimization landscape and may be more prone to convergence to sharp\n",
    "local minima with possibly worse generalization performance.\"\n",
    "\n",
    "The experiments are primarily done with a ResNet 110 trained on CIFAR-10. We will attempt to reproduce figures 1-6. "
   ]
  },
  {
   "cell_type": "markdown",
   "metadata": {},
   "source": [
    "### Convolutional BN Layer\n",
    "\n",
    "As a reminder, the input $I$ and output $O$ tensors to a batch norm layer are 4 dimentional. The dimentions $(b, c, x, y)$ correspond to the batch example, channel and spatial $x$, $y$ dimentions respectively. Batch norm (BN) applies a channel-wise normalization:\n",
    "\n",
    "$$\n",
    "O_{b, c, x, y} \\leftarrow \\gamma_c \\frac{I_{b, c, x, y} - \\hat \\mu_c}{\\sqrt{\\hat \\sigma_c^2 + \\epsilon}} + \\beta_c\n",
    "$$"
   ]
  },
  {
   "cell_type": "markdown",
   "metadata": {},
   "source": [
    "Where $\\hat \\mu_c$ and $\\hat \\sigma_c^2$ are estimates channel $c$'s mean and standard deviation computed on the minibatch $\\mathcal B$:\n",
    "\n",
    "$$\n",
    "\\hat \\mu_c = \\frac{1}{|\\mathcal B|}\\sum_{b, x, y} I_{b, c, x, y}\n",
    "$$\n",
    "\n",
    "$$\n",
    "\\hat \\sigma_c^2 = \\frac{1}{\\mathcal |B|} \\sum_{b, x, y} (I_{b, c, x, y} - \\hat \\mu_c) ^ 2\n",
    "$$"
   ]
  },
  {
   "cell_type": "markdown",
   "metadata": {},
   "source": [
    "To make sure the layer does not loose expressive power we introduce learned parameters $\\gamma_c$ and $\\beta_c$. $\\epsilon$ is a small constant added for numerical stability. In pytorch we can simply use the `BatchNorm2d` layer. "
   ]
  },
  {
   "cell_type": "markdown",
   "metadata": {},
   "source": [
    "### Experimental setup\n",
    "\n",
    "Let's setup our data loaders, model and training loop as described in Appendix B of the paper."
   ]
  },
  {
   "cell_type": "code",
   "execution_count": 1,
   "metadata": {},
   "outputs": [
    {
     "data": {
      "text/plain": [
       "device(type='mps')"
      ]
     },
     "execution_count": 1,
     "metadata": {},
     "output_type": "execute_result"
    }
   ],
   "source": [
    "#| code-summary: Imports and model evaluation function\n",
    "import torch\n",
    "import torch.nn as nn\n",
    "import torch.optim as optim\n",
    "\n",
    "from torchvision import datasets, transforms, models\n",
    "from torch.utils.data import DataLoader, Dataset\n",
    "from PIL import Image\n",
    "\n",
    "import numpy as np\n",
    "import pandas as pd\n",
    "import seaborn as sns\n",
    "import matplotlib.pyplot as plt\n",
    "import os, itertools, time\n",
    "\n",
    "os.makedirs('logs', exist_ok = True)\n",
    "os.makedirs('models', exist_ok = True)\n",
    "\n",
    "seed = 42\n",
    "np.random.seed(seed)\n",
    "torch.manual_seed(seed)\n",
    "\n",
    "device = torch.device(\n",
    "    'cuda' if torch.cuda.is_available() else\n",
    "    ('mps' if torch.backends.mps.is_available() else\n",
    "    'cpu')\n",
    ")\n",
    "\n",
    "def eval_model(model, test, criterion = nn.CrossEntropyLoss()):\n",
    "    model.eval()\n",
    "    correct, loss = 0, 0.0\n",
    "    with torch.no_grad():\n",
    "        for images, labels in test:\n",
    "            images, labels = images.to(device), labels.to(device)\n",
    "            _, pred = torch.max(model(images), 1)\n",
    "            correct += (pred == labels).float().sum().item()\n",
    "            loss += criterion(model(images), labels).item()\n",
    "    return loss / len(test.dataset), correct / len(test.dataset)\n",
    "\n",
    "device"
   ]
  },
  {
   "cell_type": "markdown",
   "metadata": {},
   "source": [
    "The paper trains ResNet-101s (110 in the paper is a typo?) on CIFAR-10, with channel-wise normalization, random horizontal flipping, and 32-by-32 cropping with 4-pixel zero padding.\n",
    "\n",
    "We first get the datasets and compute the channel-wise means and variances. Note: both the training and validation set have the same values."
   ]
  },
  {
   "cell_type": "code",
   "execution_count": 2,
   "metadata": {},
   "outputs": [
    {
     "name": "stdout",
     "output_type": "stream",
     "text": [
      "Files already downloaded and verified\n",
      "Files already downloaded and verified\n",
      "Training channel-wise\n",
      "\tmeans: tensor([0.4914, 0.4822, 0.4465])\n",
      "\tstds: tensor([0.2470, 0.2435, 0.2616])\n",
      "Validation channel-wise\n",
      "\tmeans: tensor([0.4914, 0.4822, 0.4465])\n",
      "\tstds: tensor([0.2470, 0.2435, 0.2616])\n"
     ]
    }
   ],
   "source": [
    "#| code-summary: Datasets and channel-wise means and stds\n",
    "#| output: false\n",
    "train_set = datasets.CIFAR10('./data', download = True, train = True, transform = transforms.ToTensor())\n",
    "val_set = datasets.CIFAR10('./data', download = True, train = False, transform = transforms.ToTensor())\n",
    "\n",
    "def channel_means_stds(dataset):\n",
    "    imgs = torch.stack([img for img, _ in train_set])\n",
    "    return imgs.mean(dim = [0, 2, 3]), imgs.std(dim = [0, 2, 3])\n",
    "\n",
    "means, stds = channel_means_stds(train_set)\n",
    "print(f'Training channel-wise\\n\\tmeans: {means}\\n\\tstds: {stds}')\n",
    "\n",
    "means, stds = channel_means_stds(val_set)\n",
    "print(f'Validation channel-wise\\n\\tmeans: {means}\\n\\tstds: {stds}')"
   ]
  },
  {
   "cell_type": "markdown",
   "metadata": {},
   "source": [
    "We now define the transforms with data aumentation and data loaders with batch size $128$."
   ]
  },
  {
   "cell_type": "code",
   "execution_count": 3,
   "metadata": {},
   "outputs": [],
   "source": [
    "#| output: false\n",
    "#| code-summary: Data transforms and data loaders\n",
    "\n",
    "train_transform = transforms.Compose([\n",
    "    transforms.RandomCrop(32, padding = 4),\n",
    "    transforms.RandomHorizontalFlip(),\n",
    "    transforms.ToTensor(),\n",
    "    transforms.Normalize(means, stds),\n",
    "])\n",
    "\n",
    "# We do not perform data augmentation on the validation set\n",
    "val_transform = transforms.Compose([\n",
    "    transforms.ToTensor(),\n",
    "    transforms.Normalize(means, stds),\n",
    "])\n",
    "\n",
    "train_set.transform = train_transform\n",
    "val_set.transform = val_transform\n",
    "\n",
    "train_loader = DataLoader(train_set, batch_size = 128, shuffle = True)\n",
    "val_loader = DataLoader(val_set, batch_size = 128, shuffle = False)"
   ]
  },
  {
   "cell_type": "markdown",
   "metadata": {},
   "source": [
    "We'll use `torchvision`'s implementation of ResNet-101, Xavier initialization, SGD with momentum $0.9$ and\n",
    "weight decay $5\\times 10^{-4}$, and cross entropy loss. We implement the learning rate schedule and training details mentioned:\n",
    "\n",
    ">\"Initially, all models are trained for 165 epochs and as in [17]\n",
    "we divide the learning rate by 10 after epoch 50% and 75%, at which point learning has typically\n",
    "plateued. If learning doesn’t plateu for some number of epochs, we roughly double the number of\n",
    "epochs until it does\"."
   ]
  },
  {
   "cell_type": "code",
   "execution_count": 38,
   "metadata": {},
   "outputs": [],
   "source": [
    "#| code-summary: Init, and train functions\n",
    "#| output: false\n",
    "\n",
    "def xavier_init(m):\n",
    "    if isinstance(m, nn.Conv2d) or isinstance(m, nn.Linear):\n",
    "        nn.init.xavier_uniform_(m.weight)\n",
    "\n",
    "def train_epoch(model, train, optimizer, criterion):\n",
    "    # Trains the model for one epoch\n",
    "    model.train()\n",
    "    train_loss, correct = 0.0, 0\n",
    "    for images, labels in train:\n",
    "        images, labels = images.to(device), labels.to(device)\n",
    "        optimizer.zero_grad()\n",
    "        output = model(images)\n",
    "        loss = criterion(output, labels)\n",
    "        loss.backward()\n",
    "        optimizer.step()\n",
    "        train_loss += loss.item()\n",
    "        _, pred = torch.max(output, 1)\n",
    "        correct += (pred == labels).float().sum().item()\n",
    "    return train_loss / len(train.dataset), correct / len(train.dataset)\n",
    "\n",
    "\n",
    "def train(model, train, val, init_lr, plateau_patience = 20):\n",
    "\n",
    "    optimizer = optim.SGD(model.parameters(), lr = init_lr, momentum = 0.9, weight_decay = 5e-4)\n",
    "    scheduler = optim.lr_scheduler.ReduceLROnPlateau(optimizer, verbose = True)\n",
    "    criterion = nn.CrossEntropyLoss()\n",
    "\n",
    "    model.to(device)\n",
    "\n",
    "    init_epochs = 165\n",
    "\n",
    "    epoch = 0\n",
    "    plateau_count = 0\n",
    "    best_loss = None\n",
    "\n",
    "    train_losses, train_accs, val_losses, val_accs = [], [], [], []\n",
    "\n",
    "    while epoch < init_epochs and plateau_count < plateau_patience:\n",
    "\n",
    "        # Train the model for an epoch\n",
    "        loss, acc = train_epoch(model, train, optimizer, criterion)\n",
    "        train_losses.append(loss)\n",
    "        train_accs.append(acc)\n",
    "\n",
    "        # Evaluate the model on the validation set\n",
    "        val_loss, val_acc = eval_model(model, val, criterion)\n",
    "        val_losses.append(val_loss)\n",
    "        val_accs.append(val_acc)\n",
    "\n",
    "        # Update the learning rate\n",
    "        scheduler.step(val_loss)\n",
    "\n",
    "        # Check for a plateau\n",
    "        if best_loss is None or val_loss < best_loss:\n",
    "            best_loss = val_loss\n",
    "            plateau_count = 0\n",
    "        else:\n",
    "            plateau_count += 1\n",
    "        \n",
    "        epoch += 1\n",
    "\n",
    "        # \"If learning doesn’t plateu for some number of epochs,\n",
    "        # we roughly double the number of epochs until it does.\"\n",
    "        if epoch == init_epochs and plateau_count < plateau_patience:\n",
    "            init_epochs *= 2\n",
    "\n",
    "        print(f'Epoch {epoch}/{init_epochs} | Learning Rate: {optimizer.param_groups[0][\"lr\"]}'\n",
    "              f'Training loss: {train_losses[-1]:.4f} | '\n",
    "              f'Validation loss: {val_losses[-1]:.4f} | '\n",
    "              f'Validation accuracy: {val_accs[-1]:.4f}')\n",
    "        \n",
    "    return train_losses, train_accs, val_losses, val_accs"
   ]
  },
  {
   "cell_type": "markdown",
   "metadata": {},
   "source": [
    "And we define a function to disable batch norm layers in a model by replacing them for identity layers:"
   ]
  },
  {
   "cell_type": "code",
   "execution_count": 39,
   "metadata": {},
   "outputs": [],
   "source": [
    "#|code-fold: false\n",
    "#|code-summary: Function to disable batch normalization\n",
    "\n",
    "def disable_bn(model):\n",
    "    for name, module in model.named_children():\n",
    "        if isinstance(module, nn.BatchNorm2d):\n",
    "            setattr(model, name, nn.Identity())\n",
    "        else:\n",
    "            disable_bn(module)  # Recursively replace in child modules"
   ]
  },
  {
   "cell_type": "markdown",
   "metadata": {},
   "source": [
    "### Fig 1"
   ]
  },
  {
   "cell_type": "code",
   "execution_count": 40,
   "metadata": {},
   "outputs": [
    {
     "name": "stdout",
     "output_type": "stream",
     "text": [
      "lr=0.0001\n",
      "Epoch 1/165 | Learning Rate: 0.0001Training loss: 0.0362 | Validation loss: 0.0181 | Validation accuracy: 0.1510\n",
      "Epoch 2/165 | Learning Rate: 0.0001Training loss: 0.0176 | Validation loss: 0.0176 | Validation accuracy: 0.1789\n",
      "Epoch 3/165 | Learning Rate: 0.0001Training loss: 0.0170 | Validation loss: 0.0168 | Validation accuracy: 0.2308\n",
      "Epoch 4/165 | Learning Rate: 0.0001Training loss: 0.0165 | Validation loss: 0.0163 | Validation accuracy: 0.2568\n",
      "Epoch 5/165 | Learning Rate: 0.0001Training loss: 0.0160 | Validation loss: 0.0157 | Validation accuracy: 0.2870\n",
      "Epoch 6/165 | Learning Rate: 0.0001Training loss: 0.0155 | Validation loss: 0.0153 | Validation accuracy: 0.3034\n",
      "Epoch 7/165 | Learning Rate: 0.0001Training loss: 0.0151 | Validation loss: 0.0150 | Validation accuracy: 0.3127\n",
      "Epoch 8/165 | Learning Rate: 0.0001Training loss: 0.0148 | Validation loss: 0.0147 | Validation accuracy: 0.3359\n",
      "Epoch 9/165 | Learning Rate: 0.0001Training loss: 0.0145 | Validation loss: 0.0143 | Validation accuracy: 0.3446\n",
      "Epoch 10/165 | Learning Rate: 0.0001Training loss: 0.0142 | Validation loss: 0.0139 | Validation accuracy: 0.3646\n",
      "Epoch 11/165 | Learning Rate: 0.0001Training loss: 0.0139 | Validation loss: 0.0137 | Validation accuracy: 0.3719\n",
      "Epoch 12/165 | Learning Rate: 0.0001Training loss: 0.0137 | Validation loss: 0.0134 | Validation accuracy: 0.3840\n",
      "Epoch 13/165 | Learning Rate: 0.0001Training loss: 0.0135 | Validation loss: 0.0133 | Validation accuracy: 0.3879\n",
      "Epoch 14/165 | Learning Rate: 0.0001Training loss: 0.0133 | Validation loss: 0.0134 | Validation accuracy: 0.3768\n",
      "Epoch 15/165 | Learning Rate: 0.0001Training loss: 0.0132 | Validation loss: 0.0131 | Validation accuracy: 0.3977\n",
      "Epoch 16/165 | Learning Rate: 0.0001Training loss: 0.0131 | Validation loss: 0.0130 | Validation accuracy: 0.3993\n",
      "Epoch 17/165 | Learning Rate: 0.0001Training loss: 0.0129 | Validation loss: 0.0130 | Validation accuracy: 0.3966\n"
     ]
    }
   ],
   "source": [
    "#| code-summary: Train models\n",
    "#| output: false\n",
    "\n",
    "for lr, bn in [(0.0001, False), (0.0001, True), (0.1, True), (0.003, True)]:\n",
    "\n",
    "    s = f'lr={lr}' + ('_bn' if bn else '')\n",
    "    print(s)\n",
    "\n",
    "    model = models.resnet18()\n",
    "    model.apply(xavier_init)\n",
    "\n",
    "    if not bn: disable_bn(model)\n",
    "\n",
    "    torch.save(model, 'models/'+ s + '_init.tmp')\n",
    "    data = train(model, train_loader, val_loader, init_lr = lr)\n",
    "    torch.save(model, 'models/'+ s + '_end.tmp')\n",
    "    torch.save(data, 'logs/'+ s + '.tmp')"
   ]
  },
  {
   "cell_type": "code",
   "execution_count": 32,
   "metadata": {},
   "outputs": [
    {
     "name": "stdout",
     "output_type": "stream",
     "text": [
      "lr=0.0001 79\n",
      "lr=0.1_bn 21\n",
      "lr=0.0001_bn 93\n",
      "lr=0.003_bn 38\n"
     ]
    },
    {
     "data": {
      "text/plain": [
       "Text(0, 0.5, 'Training accuracy')"
      ]
     },
     "execution_count": 32,
     "metadata": {},
     "output_type": "execute_result"
    },
    {
     "data": {
      "image/png": "[encoded data removed]",
      "text/plain": [
       "<Figure size 640x480 with 1 Axes>"
      ]
     },
     "metadata": {},
     "output_type": "display_data"
    }
   ],
   "source": [
    "# code-summary: Plot results\n",
    "\n",
    "get_x = lambda x: 100 * np.arange(1, len(x) + 1) / len(x)\n",
    "\n",
    "for fname in os.listdir('logs'):\n",
    "    train_losses, train_accs, val_losses, val_accs = torch.load('logs/' + fname)\n",
    "    print(fname[:-4], len(train_accs))\n",
    "    plt.plot(get_x(train_accs), val_accs, label = fname[:-4])\n",
    "\n",
    "plt.legend()\n",
    "plt.xlabel('% of training')\n",
    "plt.ylabel('Training accuracy')"
   ]
  },
  {
   "cell_type": "markdown",
   "metadata": {},
   "source": [
    "### Fig 2"
   ]
  },
  {
   "cell_type": "code",
   "execution_count": 1,
   "metadata": {},
   "outputs": [
    {
     "ename": "NameError",
     "evalue": "name 'models' is not defined",
     "output_type": "error",
     "traceback": [
      "\u001b[0;31m---------------------------------------------------------------------------\u001b[0m",
      "\u001b[0;31mNameError\u001b[0m                                 Traceback (most recent call last)",
      "Cell \u001b[0;32mIn[1], line 5\u001b[0m\n\u001b[1;32m      2\u001b[0m with_bn, without_bn \u001b[38;5;241m=\u001b[39m [], []\n\u001b[1;32m      3\u001b[0m n_steps \u001b[38;5;241m=\u001b[39m \u001b[38;5;241m0\u001b[39m\n\u001b[0;32m----> 5\u001b[0m model \u001b[38;5;241m=\u001b[39m \u001b[43mmodels\u001b[49m\u001b[38;5;241m.\u001b[39mresnet101()\n\u001b[1;32m      6\u001b[0m model\u001b[38;5;241m.\u001b[39mapply(xavier_init)\n\u001b[1;32m      7\u001b[0m model\u001b[38;5;241m.\u001b[39mtrain()\n",
      "\u001b[0;31mNameError\u001b[0m: name 'models' is not defined"
     ]
    }
   ],
   "source": [
    "layer_name = 'layer3.8.conv2.weight' #'layer3.9.conv3.weight'\n",
    "with_bn, without_bn = [], []\n",
    "n_steps = 0\n",
    "\n",
    "model = models.resnet101()\n",
    "model.apply(xavier_init)\n",
    "model.train()\n",
    "model.to(device)\n",
    "\n",
    "criterion = nn.CrossEntropyLoss()\n",
    "\n",
    "for bn, l in zip([True, False], [with_bn, without_bn]):\n",
    "\n",
    "    # model = models.resnet101()\n",
    "    # model.apply(xavier_init)\n",
    "    # model.train()\n",
    "    # model.to(device)\n",
    "\n",
    "    if not bn: disable_bn(model)\n",
    "    optimizer = optim.SGD(model.parameters(), lr = 0.1, momentum = 0.9, weight_decay = 5e-4)\n",
    "\n",
    "    for i, (images, labels) in enumerate(val_loader):\n",
    "\n",
    "        model.train()\n",
    "        images, labels = images.to(device), labels.to(device)\n",
    "        optimizer.zero_grad()\n",
    "        output = model(images)\n",
    "        loss = criterion(output, labels)\n",
    "        loss.backward()\n",
    "        if i <= n_steps - 1:\n",
    "            print('step')\n",
    "            optimizer.step()\n",
    "\n",
    "        model.eval()\n",
    "\n",
    "        for name, param in model.named_parameters():\n",
    "            if name == layer_name:\n",
    "                # l.append((param.grad ** 2).sum().item())\n",
    "                print((param.grad.view(-1) ** 2).sum().sqrt().item())\n",
    "                if i >= n_steps - 1: l.extend(param.grad.view(-1)[:100000].cpu().detach().tolist())\n",
    "                break\n",
    "\n",
    "        if i >= n_steps - 1: break\n",
    "    \n",
    "    break\n",
    "        "
   ]
  },
  {
   "cell_type": "code",
   "execution_count": 50,
   "metadata": {},
   "outputs": [
    {
     "data": {
      "image/png": "[encoded data removed]",
      "text/plain": [
       "<Figure size 800x400 with 2 Axes>"
      ]
     },
     "metadata": {},
     "output_type": "display_data"
    },
    {
     "ename": "",
     "evalue": "",
     "output_type": "error",
     "traceback": [
      "\u001b[1;31mThe Kernel crashed while executing code in the current cell or a previous cell. \n",
      "\u001b[1;31mPlease review the code in the cell(s) to identify a possible cause of the failure. \n",
      "\u001b[1;31mClick <a href='https://aka.ms/vscodeJupyterKernelCrash'>here</a> for more info. \n",
      "\u001b[1;31mView Jupyter <a href='command:jupyter.viewOutput'>log</a> for further details."
     ]
    }
   ],
   "source": [
    "f, (ax1, ax2) = plt.subplots(1, 2, figsize = (8, 4))\n",
    "ax1.hist(with_bn)\n",
    "# sns.histplot(with_bn, ax = ax1)\n",
    "ax1.set_title('With batch normalization')\n",
    "# ax1.set_xlim(-0.05, 0.05)\n",
    "# ax1.set_yscale('log')\n",
    "\n",
    "ax2.hist(without_bn)\n",
    "# sns.histplot(without_bn, ax = ax2)\n",
    "ax2.set_title('Without batch normalization')\n",
    "# ax2.set_ylim((0, 600))\n",
    "# ax2.set_yscale('log')\n",
    "\n",
    "f.tight_layout()"
   ]
  },
  {
   "cell_type": "markdown",
   "metadata": {},
   "source": [
    "### What I learned\n",
    "\n",
    "- How to do image augmentation\n",
    "- Scheduler"
   ]
  },
  {
   "cell_type": "markdown",
   "metadata": {},
   "source": []
  }
 ],
 "metadata": {
  "kernelspec": {
   "display_name": "Python 3",
   "language": "python",
   "name": "python3"
  },
  "language_info": {
   "codemirror_mode": {
    "name": "ipython",
    "version": 3
   },
   "file_extension": ".py",
   "mimetype": "text/x-python",
   "name": "python",
   "nbconvert_exporter": "python",
   "pygments_lexer": "ipython3",
   "version": "3.9.6"
  }
 },
 "nbformat": 4,
 "nbformat_minor": 2
}
