{
 "cells": [
  {
   "cell_type": "raw",
   "metadata": {
    "vscode": {
     "languageId": "raw"
    }
   },
   "source": [
    "---\n",
    "title: \"Batch Norm exercises\"\n",
    "author: E. Cantu\n",
    "execute:\n",
    "    warning: false\n",
    "    cache: true\n",
    "---"
   ]
  },
  {
   "cell_type": "markdown",
   "metadata": {},
   "source": [
    "Where I attempt to solve the exercises in [section 8.5 of the d2l book](https://d2l.ai/chapter_convolutional-modern/batch-norm.html) from scratch in pytorch (without using the d2l library)."
   ]
  },
  {
   "cell_type": "code",
   "execution_count": 1,
   "metadata": {},
   "outputs": [],
   "source": [
    "#| output: false\n",
    "#| code-summary: Imports\n",
    "try:\n",
    "    import matplotlib.pyplot as plt\n",
    "except:\n",
    "    !pip3 install matplotlib\n",
    "    import matplotlib.pyplot as plt\n",
    "\n",
    "import torch\n",
    "import torch.nn as nn\n",
    "import torch.optim as optim\n",
    "\n",
    "from torchvision import datasets, transforms\n",
    "from torch.utils.data import DataLoader, Dataset\n",
    "from PIL import Image\n",
    "\n",
    "import numpy as np\n",
    "import pandas as pd\n",
    "import matplotlib.pyplot as plt\n",
    "import os, itertools, time, random\n",
    "\n",
    "device = 'cpu'"
   ]
  },
  {
   "cell_type": "markdown",
   "metadata": {},
   "source": [
    "## Context\n",
    "\n",
    "The section introduces how batch norm (BN) is implemented and some of the intuitions behind its effectiveness. \n",
    "\n",
    "As a quick recap, batch norm layers apply the following transform to their inputs:\n",
    "\n",
    "$$\n",
    "BN(x) = \\gamma \\odot \\frac{x-\\hat \\mu_B}{\\hat \\sigma_B} + \\beta\n",
    "$$\n",
    "\n",
    "Where $\\gamma$, $\\beta$ are learned and $\\mu_B$, $\\sigma_B$ are estimated using the input's minibatch $B$.\n",
    "\n",
    "I.e. batch norm first normalizes the input to have mean $0$ and std $1$, facilitating convergence during optimization.\n",
    "\n",
    "However, since BN is typically applied before activation (at least traditionally), doing so will reduce the expressive power of the layer. For instance, as pointed out by the [original paper](https://arxiv.org/pdf/1502.03167), \"normalizing the inputs of a sigmoid would constrain them to the linear regime of the nonlinearity\". Below we plot a sigmoid and note that in the [-1, 1] range it is essentially linear."
   ]
  },
  {
   "cell_type": "code",
   "execution_count": 19,
   "metadata": {},
   "outputs": [
    {
     "data": {
      "image/png": "[encoded data removed]",
      "text/plain": [
       "<Figure size 600x300 with 2 Axes>"
      ]
     },
     "metadata": {},
     "output_type": "display_data"
    }
   ],
   "source": [
    "#| code-summary: Plot sigmoid\n",
    "f, (ax1, ax2) = plt.subplots(1, 2, figsize=(6, 3))\n",
    "t_constrained = np.linspace(-1, 1, 100)\n",
    "t_full = np.linspace(-4, 4, 100)\n",
    "sigmoid = lambda t:1/(1 + np.exp(-t))\n",
    "ax1.plot(t_full, sigmoid(t_full))\n",
    "ax1.plot(t_constrained, sigmoid(t_constrained), c = 'r')\n",
    "ax2.plot(t_constrained, sigmoid(t_constrained), c = 'r')\n",
    "ax1.set_ylabel('sigmoid(x)')\n",
    "ax1.set_xlabel('x')\n",
    "ax2.set_xlabel('x')\n",
    "f.tight_layout()"
   ]
  },
  {
   "cell_type": "markdown",
   "metadata": {},
   "source": [
    "So to maintain the layer's expressive power (degrees of freedom), *\"we make sure that the transformation inserted in the network can represent the identity transform\"* and introduce $\\gamma$ and $\\beta$. So if it is optimal to leave the input unchanged, the network can learn do so by setting $\\gamma = \\sigma_B(x)$ and $\\beta = \\bar x_B$. (This part was originally confusing to me as the section only mentions \"Next, we apply a scale coefficient and an offset to recover the lost degrees of freedom\" - the paper provided clarification).\n",
    "\n",
    "Finally, the second reason batch norm seems to help is the implicit regularization it provides by injecting noise into the training process. What noise? $\\hat \\mu_B$ and $\\hat \\sigma_B$ are (noisy) estimates calculated on a sample (the minibatch). Thus, the size of the minibatch $|B|$ plays an important role: too small and the estimates are too high variance; too big and the estimates become too stable (noiseless). \n",
    "\n",
    "Anyway, let's get to the exercises."
   ]
  },
  {
   "cell_type": "code",
   "execution_count": 40,
   "metadata": {},
   "outputs": [],
   "source": [
    "#| code-summary: Dataset and eval function\n",
    "#| echo: false\n",
    "training_data = datasets.MNIST(root = \"./data\", train = True, download = True, transform = transforms.ToTensor())\n",
    "testing_data = datasets.MNIST(root = \"./data\", train = False, download = True, transform = transforms.ToTensor())\n",
    "\n",
    "def eval_net(net, test_loader):\n",
    "    net.eval()\n",
    "    correct, total = 0, 0\n",
    "    with torch.no_grad():\n",
    "        for images, labels in test_loader:\n",
    "            images, labels = images.to(device), labels.to(device)\n",
    "            outputs = net(images)\n",
    "            _, predicted = torch.max(outputs.data, 1)\n",
    "            total += labels.size(0)\n",
    "            correct += (predicted == labels).sum().item()\n",
    "    return correct / total"
   ]
  },
  {
   "cell_type": "markdown",
   "metadata": {},
   "source": [
    "## Q1\n",
    "Should we remove the bias parameter from the fully connected layer or the convolutional layer before the batch normalization? Why?"
   ]
  },
  {
   "cell_type": "markdown",
   "metadata": {},
   "source": [
    "I believe we could remove the bias parameter from both the fully connected and convolution layers if BN is applied as described in the section: right after the fully connected / convolution layer but before the activation $\\phi$. Why? essentially BN is location invariant because it centers the minibatch at 0:\n",
    "\n",
    "$$\n",
    "BN_{\\gamma, \\beta}(x + \\alpha) =  BN_{\\gamma, \\beta'}(x)\n",
    "$$\n",
    "\n",
    "Thus in the fully connected layer case:\n",
    "$$\n",
    "\\boldsymbol h = \\phi(BN_{\\gamma, \\beta}(\\boldsymbol{Wx + b})) = \\phi(BN_{\\gamma, \\beta'}(\\boldsymbol{Wx}))\n",
    "$$\n",
    "\n",
    "In convolution layers we apply BN per channel, across all locations. I.e. *\"each channel has its own scale and shift parameters, both of which are scalars\"*. And since the convolution layer also outputs a scalar bias per channel, a similar argument applies.\n",
    "\n",
    "But should we remove the biases? Yes. We get the same expressive power with less params."
   ]
  },
  {
   "cell_type": "markdown",
   "metadata": {},
   "source": [
    "Lets try it out empirically on MNIST by training the `BNLeNet` network defined in the section, removing bias on linear and convolution layers in turn. Although we'll not get the same learned parameters ($\\beta \\to \\beta'$), we should get comparable performance."
   ]
  },
  {
   "cell_type": "code",
   "execution_count": 44,
   "metadata": {},
   "outputs": [],
   "source": [
    "#| code-summary: Model definition\n",
    "def init_cnn(module):\n",
    "    \"\"\"Initialize weights for CNNs.\"\"\"\n",
    "    if type(module) in [nn.Linear, nn.Conv2d]:\n",
    "        nn.init.xavier_uniform_(module.weight)\n",
    "\n",
    "\n",
    "class BNLeNet(nn.Module):\n",
    "    def __init__(self, num_classes=10, removed_bias = 'linear'):\n",
    "        super().__init__()\n",
    "        assert removed_bias in ['linear', 'conv', 'none']\n",
    "        self.net = nn.Sequential(\n",
    "            nn.LazyConv2d(6, kernel_size=5, bias = removed_bias == 'conv'), nn.LazyBatchNorm2d(),\n",
    "            nn.Sigmoid(), nn.AvgPool2d(kernel_size=2, stride=2),\n",
    "            nn.LazyConv2d(16, kernel_size=5, bias = removed_bias == 'conv'), nn.LazyBatchNorm2d(),\n",
    "            nn.Sigmoid(), nn.AvgPool2d(kernel_size=2, stride=2),\n",
    "            nn.Flatten(), nn.LazyLinear(120, bias = removed_bias == 'linear'), nn.LazyBatchNorm1d(),\n",
    "            nn.Sigmoid(), nn.LazyLinear(84, bias = removed_bias == 'linear'), nn.LazyBatchNorm1d(),\n",
    "            nn.Sigmoid(), nn.LazyLinear(num_classes))\n",
    "        \n",
    "    def forward(self, x):\n",
    "        return self.net(x)"
   ]
  },
  {
   "cell_type": "code",
   "execution_count": 42,
   "metadata": {},
   "outputs": [],
   "source": [
    "#| code-summary: Training function\n",
    "\n",
    "def train(net, train_loader, test_loader, num_epochs = 5, lr = 0.1, verbose = True):\n",
    "    # Infer input shapes, initialize weights and move to device\n",
    "    _ = net(next(iter(train_loader))[0]) # Necessary before initing weights\n",
    "    net.apply(init_cnn)\n",
    "    net.to(device)\n",
    "\n",
    "    criterion = nn.CrossEntropyLoss()\n",
    "    optimizer = optim.SGD(net.parameters(), lr=lr)\n",
    "    \n",
    "    test_accs = []\n",
    "    for epoch in range(num_epochs):\n",
    "        net.train()\n",
    "        for images, labels in train_loader:\n",
    "            images, labels = images.to(device), labels.to(device)\n",
    "            optimizer.zero_grad()\n",
    "            outputs = net(images)\n",
    "            loss = criterion(outputs, labels)\n",
    "            loss.backward()\n",
    "            optimizer.step()\n",
    "        \n",
    "        eval_acc = eval_net(net, test_loader)\n",
    "        test_accs.append(eval_acc)\n",
    "        if verbose: print(f'Epoch {epoch + 1}/{num_epochs}, Test acc: {eval_acc}')\n",
    "        \n",
    "    return test_accs"
   ]
  },
  {
   "cell_type": "code",
   "execution_count": 70,
   "metadata": {},
   "outputs": [
    {
     "name": "stderr",
     "output_type": "stream",
     "text": [
      "/Users/emiliocantucervini/Library/Python/3.9/lib/python/site-packages/torch/nn/modules/lazy.py:180: UserWarning: Lazy modules are a new feature under heavy development so changes to the API or functionality can happen at any moment.\n",
      "  warnings.warn('Lazy modules are a new feature under heavy development '\n"
     ]
    },
    {
     "name": "stdout",
     "output_type": "stream",
     "text": [
      "none final test acc: \t0.9816\n",
      "linear final test acc: \t0.9863\n",
      "conv final test acc: \t0.9781\n"
     ]
    }
   ],
   "source": [
    "#| code-summary: Train and evaluate\n",
    "\n",
    "# Set data loader seed for reproducibility\n",
    "def seed_worker(worker_id):\n",
    "    worker_seed = torch.initial_seed() % 2**32\n",
    "    np.random.seed(worker_seed)\n",
    "    random.seed(worker_seed)\n",
    "\n",
    "test_loader = DataLoader(testing_data, batch_size = 128, shuffle = False)\n",
    "\n",
    "for removed_bias in ['none', 'linear', 'conv']:\n",
    "\n",
    "    net = BNLeNet(removed_bias = removed_bias)\n",
    "    torch.manual_seed(0); np.random.seed(0); random.seed(0)\n",
    "    g = torch.Generator()\n",
    "    g.manual_seed(0)\n",
    "    train_loader = DataLoader(training_data, batch_size = 128, shuffle = True, worker_init_fn = seed_worker, generator = g)\n",
    "\n",
    "    train(net, train_loader, test_loader, num_epochs = 10, lr = 0.1, verbose = False)\n",
    "    print(f'{removed_bias} final test acc: \\t{eval_net(net, test_loader)}')"
   ]
  },
  {
   "cell_type": "markdown",
   "metadata": {},
   "source": [
    "Close enough."
   ]
  },
  {
   "cell_type": "markdown",
   "metadata": {},
   "source": [
    "## Q2\n",
    "Compare the learning rates for LeNet with and without batch normalization.\n",
    "\n",
    "1. Plot the increase in validation accuracy.\n",
    "2. How large can you make the learning rate before the optimization fails in both cases?"
   ]
  },
  {
   "cell_type": "code",
   "execution_count": 53,
   "metadata": {},
   "outputs": [],
   "source": [
    "#| code-summary: Model definitions\n",
    "\n",
    "class LeNet(nn.Module):\n",
    "\n",
    "    def __init__(self, num_classes=10):\n",
    "        super().__init__()\n",
    "        self.net = nn.Sequential(\n",
    "            nn.LazyConv2d(6, kernel_size=5, padding=2), nn.Sigmoid(),\n",
    "            nn.AvgPool2d(kernel_size=2, stride=2),\n",
    "            nn.LazyConv2d(16, kernel_size=5), nn.Sigmoid(),\n",
    "            nn.AvgPool2d(kernel_size=2, stride=2),\n",
    "            nn.Flatten(),\n",
    "            nn.LazyLinear(120), nn.Sigmoid(),\n",
    "            nn.LazyLinear(84), nn.Sigmoid(),\n",
    "            nn.LazyLinear(num_classes)\n",
    "        )\n",
    "\n",
    "    def forward(self, X):\n",
    "        return self.net(X)\n",
    "        \n",
    "class BNLeNet(nn.Module):\n",
    "    def __init__(self, num_classes=10):\n",
    "        super().__init__()\n",
    "        self.net = nn.Sequential(\n",
    "            nn.LazyConv2d(6, kernel_size=5), nn.LazyBatchNorm2d(), nn.Sigmoid(),\n",
    "            nn.AvgPool2d(kernel_size=2, stride=2),\n",
    "            nn.LazyConv2d(16, kernel_size=5), nn.LazyBatchNorm2d(), nn.Sigmoid(),\n",
    "            nn.AvgPool2d(kernel_size=2, stride=2),\n",
    "            nn.Flatten(),\n",
    "            nn.LazyLinear(120), nn.LazyBatchNorm1d(), nn.Sigmoid(),\n",
    "            nn.LazyLinear(84), nn.LazyBatchNorm1d(), nn.Sigmoid(),\n",
    "            nn.LazyLinear(num_classes))\n",
    "        \n",
    "    def forward(self, x):\n",
    "        return self.net(x)"
   ]
  },
  {
   "cell_type": "markdown",
   "metadata": {},
   "source": [
    "Let's try the range $lr \\in \\{1, 0.5, 0.1, 0.05\\}$:"
   ]
  },
  {
   "cell_type": "code",
   "execution_count": 58,
   "metadata": {},
   "outputs": [
    {
     "name": "stderr",
     "output_type": "stream",
     "text": [
      "/Users/emiliocantucervini/Library/Python/3.9/lib/python/site-packages/torch/nn/modules/lazy.py:180: UserWarning: Lazy modules are a new feature under heavy development so changes to the API or functionality can happen at any moment.\n",
      "  warnings.warn('Lazy modules are a new feature under heavy development '\n"
     ]
    }
   ],
   "source": [
    "#| code-summary: Train and evaluate\n",
    "#| echo: false\n",
    "\n",
    "with_bn, without_bn = [], []\n",
    "lrs = [1, 0.5, 0.1, 0.05]\n",
    "\n",
    "for lr in lrs:\n",
    "\n",
    "    net = LeNet()\n",
    "    test_accs = train(net, train_loader, test_loader, num_epochs = 10, lr = lr, verbose = False)\n",
    "    without_bn.append(test_accs)\n",
    "\n",
    "    net = BNLeNet()\n",
    "    test_accs = train(net, train_loader, test_loader, num_epochs = 10, lr = lr, verbose = False)\n",
    "    with_bn.append(test_accs)"
   ]
  },
  {
   "cell_type": "code",
   "execution_count": 70,
   "metadata": {},
   "outputs": [
    {
     "data": {
      "image/png": "[encoded data removed]",
      "text/plain": [
       "<Figure size 800x400 with 2 Axes>"
      ]
     },
     "metadata": {},
     "output_type": "display_data"
    }
   ],
   "source": [
    "#| code-summary: Plot results\n",
    "f, (ax1, ax2) = plt.subplots(1, 2, figsize=(8, 4), sharey = True)\n",
    "\n",
    "for ax, name, results in zip([ax1, ax2], ['Without BN', 'With BN'], [without_bn, with_bn]):\n",
    "    for lr, accs in zip(lrs, results):\n",
    "        ax.plot(accs, label=f'lr={lr}')\n",
    "        ax.legend()\n",
    "        ax.set_title(f'{name}')\n",
    "        ax.set_xlabel('Epoch')\n",
    "ax1.set_ylabel('Validation Accuracy')\n",
    "f.tight_layout()"
   ]
  },
  {
   "cell_type": "markdown",
   "metadata": {},
   "source": [
    "And we observe that applying batch norm helps early training - we achive better performance earlier. And while we would probably obtain the same test accuracy given more epochs with both methods, training without BN already fails at a learning rate of $0.05$."
   ]
  },
  {
   "cell_type": "markdown",
   "metadata": {},
   "source": [
    "## Q3\n",
    "Do we need batch normalization in every layer? Experiment with it."
   ]
  },
  {
   "cell_type": "markdown",
   "metadata": {},
   "source": [
    "## Q4\n",
    "Implement a “lite” version of batch normalization that only removes the mean, or alternatively one that only removes the variance. How does it behave?"
   ]
  },
  {
   "cell_type": "markdown",
   "metadata": {},
   "source": [
    "## Q5\n",
    "Fix the parameters beta and gamma. Observe and analyze the results."
   ]
  },
  {
   "cell_type": "markdown",
   "metadata": {},
   "source": [
    "## Q6\n",
    "Can you replace dropout by batch normalization? How does the behavior change?"
   ]
  },
  {
   "cell_type": "markdown",
   "metadata": {},
   "source": [
    "## Q7\n",
    "Research ideas: think of other normalization transforms that you can apply:\n",
    "\n",
    "1. Can you apply the probability integral transform?\n",
    "\n",
    "2. Can you use a full-rank covariance estimate? Why should you probably not do that?\n",
    "\n",
    "3. Can you use other compact matrix variants (block-diagonal, low-displacement rank, Monarch, etc.)?\n",
    "\n",
    "4. Does a sparsification compression act as a regularizer?\n",
    "\n",
    "5. Are there other projections (e.g., convex cone, symmetry group-specific transforms) that you can use?"
   ]
  }
 ],
 "metadata": {
  "kernelspec": {
   "display_name": "Python 3",
   "language": "python",
   "name": "python3"
  },
  "language_info": {
   "codemirror_mode": {
    "name": "ipython",
    "version": 3
   },
   "file_extension": ".py",
   "mimetype": "text/x-python",
   "name": "python",
   "nbconvert_exporter": "python",
   "pygments_lexer": "ipython3",
   "version": "3.9.6"
  }
 },
 "nbformat": 4,
 "nbformat_minor": 2
}
